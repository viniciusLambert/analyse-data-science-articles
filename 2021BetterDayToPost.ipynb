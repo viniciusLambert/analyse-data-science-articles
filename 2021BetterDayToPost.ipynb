{
 "cells": [
  {
   "cell_type": "markdown",
   "id": "a19faca1",
   "metadata": {},
   "source": [
    "# Questions\n",
    "\n",
    "- [X] What is the better day to post?"
   ]
  },
  {
   "cell_type": "markdown",
   "id": "f97be10e",
   "metadata": {},
   "source": [
    "To get started, let's read in the necessary libraries we will need to wrangle our data: pandas and numpy. If we decided to build some basic plots, matplotlib might prove useful as well."
   ]
  },
  {
   "cell_type": "code",
   "execution_count": 17,
   "id": "7f665452",
   "metadata": {
    "scrolled": true
   },
   "outputs": [
    {
     "data": {
      "text/html": [
       "<div>\n",
       "<style scoped>\n",
       "    .dataframe tbody tr th:only-of-type {\n",
       "        vertical-align: middle;\n",
       "    }\n",
       "\n",
       "    .dataframe tbody tr th {\n",
       "        vertical-align: top;\n",
       "    }\n",
       "\n",
       "    .dataframe thead th {\n",
       "        text-align: right;\n",
       "    }\n",
       "</style>\n",
       "<table border=\"1\" class=\"dataframe\">\n",
       "  <thead>\n",
       "    <tr style=\"text-align: right;\">\n",
       "      <th></th>\n",
       "      <th>url</th>\n",
       "      <th>title</th>\n",
       "      <th>author</th>\n",
       "      <th>author_page</th>\n",
       "      <th>subtitle</th>\n",
       "      <th>claps</th>\n",
       "      <th>responses</th>\n",
       "      <th>reading_time</th>\n",
       "      <th>tag</th>\n",
       "      <th>date</th>\n",
       "    </tr>\n",
       "  </thead>\n",
       "  <tbody>\n",
       "    <tr>\n",
       "      <th>0</th>\n",
       "      <td>https://medium.com/@dharmeshpanchmatia/data-analytics-and-ai-ml-platform-for-ecommerce-68639df89c7f</td>\n",
       "      <td>Data Analytics and AI/ML platform for eCommerce</td>\n",
       "      <td>dharmeshpanchmatia</td>\n",
       "      <td>https://medium.com/@dharmeshpanchmatia</td>\n",
       "      <td>Improve user pr</td>\n",
       "      <td>30.0</td>\n",
       "      <td>0.0</td>\n",
       "      <td>5.0</td>\n",
       "      <td>Big Data</td>\n",
       "      <td>2021-01-01</td>\n",
       "    </tr>\n",
       "    <tr>\n",
       "      <th>1</th>\n",
       "      <td>https://medium.com/predict/the-journey-from-an-apple-silicon-m1-powered-laptop-to-an-amd-ryzen-threadripper-3-desktop-6315252ac9d1</td>\n",
       "      <td>The journey from an Apple Silicon M1 powered laptop to an AMD Ryzen Threadripper 3 desktop.</td>\n",
       "      <td>dimitrisv</td>\n",
       "      <td>https://medium.com/@dimitrisv</td>\n",
       "      <td>NaN</td>\n",
       "      <td>42.0</td>\n",
       "      <td>0.0</td>\n",
       "      <td>5.0</td>\n",
       "      <td>Big Data</td>\n",
       "      <td>2021-01-01</td>\n",
       "    </tr>\n",
       "    <tr>\n",
       "      <th>2</th>\n",
       "      <td>https://medium.com/@rajsaraogi/demystifying-kpis-in-analytics-60084292412c</td>\n",
       "      <td>Demystifying KPIs in Analytics</td>\n",
       "      <td>rajsaraogi</td>\n",
       "      <td>https://medium.com/@rajsaraogi</td>\n",
       "      <td>NaN</td>\n",
       "      <td>19.0</td>\n",
       "      <td>0.0</td>\n",
       "      <td>3.0</td>\n",
       "      <td>Big Data</td>\n",
       "      <td>2021-01-01</td>\n",
       "    </tr>\n",
       "    <tr>\n",
       "      <th>3</th>\n",
       "      <td>https://medium.com/@bigdataschool/%D0%B1%D0%BE%D0%BB%D1%8C%D1%88%D0%B0%D1%8F-%D1%80%D0%B0%D0%B7%D0%BD%D0%B8%D1%86%D0%B0-%D1%87%D0%B5%D0%BC-%D1%81%D1%82%D1%80%D1%83%D0%BA%D1%82%D1%83%D1%80%D0%B8%D1%80%D0%BE%D0%B2%D0%B0%D0%BD%D0%BD%D0%B0%D1%8F-%D0%BF%D0%BE%D1%82%D0%BE%D0%BA%D0%BE%D0%B2%D0%B0%D1%8F-%D0%BF%D0%B5%D1%80%D0%B5%D0%B4%D0%B0%D1%87%D0%B0-%D0%B2-apache-spark-%D0%BE%D1%82%D0%BB%D0%B8%D1%87%D0%B0%D0%B5%D1%82%D1%81%D1%8F-%D0%BE%D1%82-spark-c3fcc3625679</td>\n",
       "      <td>Большая разница: чем структурированная потоковая передача в Apache Spark отличается от Spark Streaming</td>\n",
       "      <td>bigdataschool</td>\n",
       "      <td>https://medium.com/@bigdataschool</td>\n",
       "      <td>NaN</td>\n",
       "      <td>0.0</td>\n",
       "      <td>0.0</td>\n",
       "      <td>6.0</td>\n",
       "      <td>Big Data</td>\n",
       "      <td>2021-01-01</td>\n",
       "    </tr>\n",
       "    <tr>\n",
       "      <th>4</th>\n",
       "      <td>https://medium.com/@arnowa-44509/iot-a-new-way-of-life-249f69134af9</td>\n",
       "      <td>IoT: A New Way of Life</td>\n",
       "      <td>arnowa-44509</td>\n",
       "      <td>https://medium.com/@arnowa-44509</td>\n",
       "      <td>IoT is more than just the Internet of things, it’s a network of new…</td>\n",
       "      <td>0.0</td>\n",
       "      <td>0.0</td>\n",
       "      <td>3.0</td>\n",
       "      <td>Big Data</td>\n",
       "      <td>2021-01-01</td>\n",
       "    </tr>\n",
       "  </tbody>\n",
       "</table>\n",
       "</div>"
      ],
      "text/plain": [
       "                                                                                                                                                                                                                                                                                                                                                                                                                                                                          url  \\\n",
       "0                                                                                                                                                                                                                                                                                                                                                                         https://medium.com/@dharmeshpanchmatia/data-analytics-and-ai-ml-platform-for-ecommerce-68639df89c7f   \n",
       "1                                                                                                                                                                                                                                                                                                                                          https://medium.com/predict/the-journey-from-an-apple-silicon-m1-powered-laptop-to-an-amd-ryzen-threadripper-3-desktop-6315252ac9d1   \n",
       "2                                                                                                                                                                                                                                                                                                                                                                                                  https://medium.com/@rajsaraogi/demystifying-kpis-in-analytics-60084292412c   \n",
       "3  https://medium.com/@bigdataschool/%D0%B1%D0%BE%D0%BB%D1%8C%D1%88%D0%B0%D1%8F-%D1%80%D0%B0%D0%B7%D0%BD%D0%B8%D1%86%D0%B0-%D1%87%D0%B5%D0%BC-%D1%81%D1%82%D1%80%D1%83%D0%BA%D1%82%D1%83%D1%80%D0%B8%D1%80%D0%BE%D0%B2%D0%B0%D0%BD%D0%BD%D0%B0%D1%8F-%D0%BF%D0%BE%D1%82%D0%BE%D0%BA%D0%BE%D0%B2%D0%B0%D1%8F-%D0%BF%D0%B5%D1%80%D0%B5%D0%B4%D0%B0%D1%87%D0%B0-%D0%B2-apache-spark-%D0%BE%D1%82%D0%BB%D0%B8%D1%87%D0%B0%D0%B5%D1%82%D1%81%D1%8F-%D0%BE%D1%82-spark-c3fcc3625679   \n",
       "4                                                                                                                                                                                                                                                                                                                                                                                                         https://medium.com/@arnowa-44509/iot-a-new-way-of-life-249f69134af9   \n",
       "\n",
       "                                                                                                    title  \\\n",
       "0                                                         Data Analytics and AI/ML platform for eCommerce   \n",
       "1             The journey from an Apple Silicon M1 powered laptop to an AMD Ryzen Threadripper 3 desktop.   \n",
       "2                                                                          Demystifying KPIs in Analytics   \n",
       "3  Большая разница: чем структурированная потоковая передача в Apache Spark отличается от Spark Streaming   \n",
       "4                                                                                  IoT: A New Way of Life   \n",
       "\n",
       "               author                             author_page  \\\n",
       "0  dharmeshpanchmatia  https://medium.com/@dharmeshpanchmatia   \n",
       "1           dimitrisv           https://medium.com/@dimitrisv   \n",
       "2          rajsaraogi          https://medium.com/@rajsaraogi   \n",
       "3       bigdataschool       https://medium.com/@bigdataschool   \n",
       "4        arnowa-44509        https://medium.com/@arnowa-44509   \n",
       "\n",
       "                                                               subtitle  \\\n",
       "0                                                       Improve user pr   \n",
       "1                                                                   NaN   \n",
       "2                                                                   NaN   \n",
       "3                                                                   NaN   \n",
       "4  IoT is more than just the Internet of things, it’s a network of new…   \n",
       "\n",
       "   claps  responses  reading_time       tag        date  \n",
       "0   30.0        0.0           5.0  Big Data  2021-01-01  \n",
       "1   42.0        0.0           5.0  Big Data  2021-01-01  \n",
       "2   19.0        0.0           3.0  Big Data  2021-01-01  \n",
       "3    0.0        0.0           6.0  Big Data  2021-01-01  \n",
       "4    0.0        0.0           3.0  Big Data  2021-01-01  "
      ]
     },
     "execution_count": 17,
     "metadata": {},
     "output_type": "execute_result"
    }
   ],
   "source": [
    "import numpy as np\n",
    "import pandas as pd\n",
    "\n",
    "import seaborn as sns\n",
    "import matplotlib.pyplot as plt\n",
    "%matplotlib inline\n",
    "\n",
    "import datetime\n",
    "\n",
    "plt.rcParams[\"figure.figsize\"] = (10, 10)\n",
    "\n",
    "pd.set_option('display.max_colwidth', None)\n",
    "\n",
    "df = pd.read_csv('medium-data-science-articles-2021.csv')\n",
    "\n",
    "\n",
    "df.shape\n",
    "df.head()"
   ]
  },
  {
   "cell_type": "markdown",
   "id": "702763c2",
   "metadata": {},
   "source": [
    "# Preparing data\n",
    "\n",
    "## Find url duplicateds values and drop it\n",
    "\n",
    "As same Url means same articles, let's remove it."
   ]
  },
  {
   "cell_type": "code",
   "execution_count": 3,
   "id": "f46da3ff",
   "metadata": {
    "scrolled": true
   },
   "outputs": [
    {
     "name": "stdout",
     "output_type": "stream",
     "text": [
      " We have 1 duplicated values in url colum\n"
     ]
    },
    {
     "data": {
      "text/html": [
       "<div>\n",
       "<style scoped>\n",
       "    .dataframe tbody tr th:only-of-type {\n",
       "        vertical-align: middle;\n",
       "    }\n",
       "\n",
       "    .dataframe tbody tr th {\n",
       "        vertical-align: top;\n",
       "    }\n",
       "\n",
       "    .dataframe thead th {\n",
       "        text-align: right;\n",
       "    }\n",
       "</style>\n",
       "<table border=\"1\" class=\"dataframe\">\n",
       "  <thead>\n",
       "    <tr style=\"text-align: right;\">\n",
       "      <th></th>\n",
       "      <th>url</th>\n",
       "      <th>title</th>\n",
       "      <th>author</th>\n",
       "      <th>author_page</th>\n",
       "      <th>subtitle</th>\n",
       "      <th>claps</th>\n",
       "      <th>responses</th>\n",
       "      <th>reading_time</th>\n",
       "      <th>tag</th>\n",
       "      <th>date</th>\n",
       "    </tr>\n",
       "  </thead>\n",
       "  <tbody>\n",
       "    <tr>\n",
       "      <th>24526</th>\n",
       "      <td>https://medium.com/@veronikabelokhvostova/im-a-data-scientist-here-s-why-i-work-at-facebook-a1fdb42fc8c4</td>\n",
       "      <td>&lt;strong class=\"markup--strong markup--h3-strong\"&gt;&lt;em class=\"markup--em markup--h3-em\"&gt;I’m a Data Scientist — Here’s why I work at Facebook&lt;/em&gt;&lt;/strong&gt;</td>\n",
       "      <td>veronikabelokhvostova</td>\n",
       "      <td>https://medium.com/@veronikabelokhvostova</td>\n",
       "      <td>NaN</td>\n",
       "      <td>591.0</td>\n",
       "      <td>0.0</td>\n",
       "      <td>7.0</td>\n",
       "      <td>Data Science</td>\n",
       "      <td>2021-10-07</td>\n",
       "    </tr>\n",
       "    <tr>\n",
       "      <th>25593</th>\n",
       "      <td>https://medium.com/@veronikabelokhvostova/im-a-data-scientist-here-s-why-i-work-at-facebook-a1fdb42fc8c4</td>\n",
       "      <td>Facebook destroyed my family andmy mother and grandfather.</td>\n",
       "      <td>lexahe3185</td>\n",
       "      <td>https://medium.com/@lexahe3185</td>\n",
       "      <td>NaN</td>\n",
       "      <td>0.0</td>\n",
       "      <td>0.0</td>\n",
       "      <td>0.0</td>\n",
       "      <td>Data Science</td>\n",
       "      <td>2021-10-12</td>\n",
       "    </tr>\n",
       "  </tbody>\n",
       "</table>\n",
       "</div>"
      ],
      "text/plain": [
       "                                                                                                            url  \\\n",
       "24526  https://medium.com/@veronikabelokhvostova/im-a-data-scientist-here-s-why-i-work-at-facebook-a1fdb42fc8c4   \n",
       "25593  https://medium.com/@veronikabelokhvostova/im-a-data-scientist-here-s-why-i-work-at-facebook-a1fdb42fc8c4   \n",
       "\n",
       "                                                                                                                                                          title  \\\n",
       "24526  <strong class=\"markup--strong markup--h3-strong\"><em class=\"markup--em markup--h3-em\">I’m a Data Scientist — Here’s why I work at Facebook</em></strong>   \n",
       "25593                                                                                                Facebook destroyed my family andmy mother and grandfather.   \n",
       "\n",
       "                      author                                author_page  \\\n",
       "24526  veronikabelokhvostova  https://medium.com/@veronikabelokhvostova   \n",
       "25593             lexahe3185             https://medium.com/@lexahe3185   \n",
       "\n",
       "      subtitle  claps  responses  reading_time           tag        date  \n",
       "24526      NaN  591.0        0.0           7.0  Data Science  2021-10-07  \n",
       "25593      NaN    0.0        0.0           0.0  Data Science  2021-10-12  "
      ]
     },
     "execution_count": 3,
     "metadata": {},
     "output_type": "execute_result"
    }
   ],
   "source": [
    "print(f' We have {df.url.duplicated().sum()} duplicated values in url colum')\n",
    "df[df.url.duplicated(keep=False)]"
   ]
  },
  {
   "cell_type": "code",
   "execution_count": 4,
   "id": "c0872e50",
   "metadata": {},
   "outputs": [
    {
     "name": "stdout",
     "output_type": "stream",
     "text": [
      " We have 0 duplicated values in url column\n"
     ]
    },
    {
     "data": {
      "text/plain": [
       "(47659, 10)"
      ]
     },
     "execution_count": 4,
     "metadata": {},
     "output_type": "execute_result"
    }
   ],
   "source": [
    "#  analysed the values and conclude that the correct duplicated values \n",
    "#is aways the first! So let's keep it.\n",
    "\n",
    "df = df.drop_duplicates(subset=['url'], keep='first')\n",
    "print(f' We have {df.url.duplicated().sum()} duplicated values in url column')\n",
    "df.shape"
   ]
  },
  {
   "cell_type": "markdown",
   "id": "b6448335",
   "metadata": {},
   "source": [
    "## Modeling Data"
   ]
  },
  {
   "cell_type": "markdown",
   "id": "f62466b4",
   "metadata": {},
   "source": [
    "### labeling the data\n",
    "\n",
    "As date dont indicate weekday, we must extract that info."
   ]
  },
  {
   "cell_type": "code",
   "execution_count": 15,
   "id": "9bf0e6d1",
   "metadata": {
    "scrolled": false
   },
   "outputs": [],
   "source": [
    "def get_week_day(date):\n",
    "    date = str(date)\n",
    "    year, month, day = (int(x) for x in date.split('-'))    \n",
    "    \n",
    "    return datetime.date(year, month, day).weekday()\n",
    "  \n",
    "\n",
    "df['weekday'] = df.date.apply(get_week_day)"
   ]
  },
  {
   "cell_type": "markdown",
   "id": "141151f3",
   "metadata": {},
   "source": [
    "## Get data insights"
   ]
  },
  {
   "cell_type": "code",
   "execution_count": 16,
   "id": "44711e04",
   "metadata": {
    "scrolled": true
   },
   "outputs": [
    {
     "data": {
      "text/html": [
       "<style type=\"text/css\">\n",
       "#T_e1cac_row0_col0, #T_e1cac_row1_col1, #T_e1cac_row2_col2, #T_e1cac_row3_col3 {\n",
       "  background-color: #b40426;\n",
       "  color: #f1f1f1;\n",
       "}\n",
       "#T_e1cac_row0_col1 {\n",
       "  background-color: #bfd3f6;\n",
       "  color: #000000;\n",
       "}\n",
       "#T_e1cac_row0_col2, #T_e1cac_row2_col1 {\n",
       "  background-color: #4e68d8;\n",
       "  color: #f1f1f1;\n",
       "}\n",
       "#T_e1cac_row0_col3, #T_e1cac_row3_col0, #T_e1cac_row3_col1, #T_e1cac_row3_col2 {\n",
       "  background-color: #3b4cc0;\n",
       "  color: #f1f1f1;\n",
       "}\n",
       "#T_e1cac_row1_col0 {\n",
       "  background-color: #c0d4f5;\n",
       "  color: #000000;\n",
       "}\n",
       "#T_e1cac_row1_col2 {\n",
       "  background-color: #4f69d9;\n",
       "  color: #f1f1f1;\n",
       "}\n",
       "#T_e1cac_row1_col3 {\n",
       "  background-color: #3d50c3;\n",
       "  color: #f1f1f1;\n",
       "}\n",
       "#T_e1cac_row2_col0 {\n",
       "  background-color: #506bda;\n",
       "  color: #f1f1f1;\n",
       "}\n",
       "#T_e1cac_row2_col3 {\n",
       "  background-color: #3c4ec2;\n",
       "  color: #f1f1f1;\n",
       "}\n",
       "</style>\n",
       "<table id=\"T_e1cac_\">\n",
       "  <thead>\n",
       "    <tr>\n",
       "      <th class=\"blank level0\" >&nbsp;</th>\n",
       "      <th class=\"col_heading level0 col0\" >claps</th>\n",
       "      <th class=\"col_heading level0 col1\" >responses</th>\n",
       "      <th class=\"col_heading level0 col2\" >reading_time</th>\n",
       "      <th class=\"col_heading level0 col3\" >weekday</th>\n",
       "    </tr>\n",
       "  </thead>\n",
       "  <tbody>\n",
       "    <tr>\n",
       "      <th id=\"T_e1cac_level0_row0\" class=\"row_heading level0 row0\" >claps</th>\n",
       "      <td id=\"T_e1cac_row0_col0\" class=\"data row0 col0\" >1.000000</td>\n",
       "      <td id=\"T_e1cac_row0_col1\" class=\"data row0 col1\" >0.399804</td>\n",
       "      <td id=\"T_e1cac_row0_col2\" class=\"data row0 col2\" >0.067828</td>\n",
       "      <td id=\"T_e1cac_row0_col3\" class=\"data row0 col3\" >-0.003416</td>\n",
       "    </tr>\n",
       "    <tr>\n",
       "      <th id=\"T_e1cac_level0_row1\" class=\"row_heading level0 row1\" >responses</th>\n",
       "      <td id=\"T_e1cac_row1_col0\" class=\"data row1 col0\" >0.399804</td>\n",
       "      <td id=\"T_e1cac_row1_col1\" class=\"data row1 col1\" >1.000000</td>\n",
       "      <td id=\"T_e1cac_row1_col2\" class=\"data row1 col2\" >0.068732</td>\n",
       "      <td id=\"T_e1cac_row1_col3\" class=\"data row1 col3\" >0.004683</td>\n",
       "    </tr>\n",
       "    <tr>\n",
       "      <th id=\"T_e1cac_level0_row2\" class=\"row_heading level0 row2\" >reading_time</th>\n",
       "      <td id=\"T_e1cac_row2_col0\" class=\"data row2 col0\" >0.067828</td>\n",
       "      <td id=\"T_e1cac_row2_col1\" class=\"data row2 col1\" >0.068732</td>\n",
       "      <td id=\"T_e1cac_row2_col2\" class=\"data row2 col2\" >1.000000</td>\n",
       "      <td id=\"T_e1cac_row2_col3\" class=\"data row2 col3\" >0.001833</td>\n",
       "    </tr>\n",
       "    <tr>\n",
       "      <th id=\"T_e1cac_level0_row3\" class=\"row_heading level0 row3\" >weekday</th>\n",
       "      <td id=\"T_e1cac_row3_col0\" class=\"data row3 col0\" >-0.003416</td>\n",
       "      <td id=\"T_e1cac_row3_col1\" class=\"data row3 col1\" >0.004683</td>\n",
       "      <td id=\"T_e1cac_row3_col2\" class=\"data row3 col2\" >0.001833</td>\n",
       "      <td id=\"T_e1cac_row3_col3\" class=\"data row3 col3\" >1.000000</td>\n",
       "    </tr>\n",
       "  </tbody>\n",
       "</table>\n"
      ],
      "text/plain": [
       "<pandas.io.formats.style.Styler at 0x7f4357749d60>"
      ]
     },
     "execution_count": 16,
     "metadata": {},
     "output_type": "execute_result"
    }
   ],
   "source": [
    "corr = df.corr()\n",
    "corr.style.background_gradient(cmap='coolwarm')"
   ]
  },
  {
   "cell_type": "code",
   "execution_count": 9,
   "id": "ea01875a",
   "metadata": {},
   "outputs": [
    {
     "data": {
      "text/plain": [
       "{'Friday': {'total_claps': 359013.0, 'count': 7581, 'week_number': 4},\n",
       " 'Saturday': {'total_claps': 222734.0, 'count': 4630, 'week_number': 5},\n",
       " 'Sunday': {'total_claps': 196899.0, 'count': 4624, 'week_number': 6},\n",
       " 'Monday': {'total_claps': 354164.0, 'count': 7647, 'week_number': 0},\n",
       " 'Tuesday': {'total_claps': 385568.0, 'count': 8008, 'week_number': 1},\n",
       " 'Wednesday': {'total_claps': 408845.0, 'count': 8223, 'week_number': 2},\n",
       " 'Thursday': {'total_claps': 322049.0, 'count': 6946, 'week_number': 3}}"
      ]
     },
     "execution_count": 9,
     "metadata": {},
     "output_type": "execute_result"
    }
   ],
   "source": [
    "claps_count = {}\n",
    "weekDays = (\"Monday\",\"Tuesday\",\"Wednesday\",\"Thursday\",\"Friday\",\"Saturday\",\"Sunday\")\n",
    "\n",
    "for weeknumber, clap in zip(df.weekday, df.claps):\n",
    "    weekday = weekDays[weeknumber]\n",
    "    if weekday in claps_count.keys():\n",
    "        claps_count[weekday]['total_claps'] += clap\n",
    "        claps_count[weekday]['count'] += 1\n",
    "    else:        \n",
    "        claps_count[weekday] = {\n",
    "            'total_claps' : clap,\n",
    "            'count': 1,\n",
    "            'week_number': weeknumber\n",
    "        }\n",
    "\n",
    "claps_count"
   ]
  },
  {
   "cell_type": "code",
   "execution_count": 18,
   "id": "d1e07f50",
   "metadata": {},
   "outputs": [
    {
     "data": {
      "text/plain": [
       "{'Friday': {'total_claps': 359013.0,\n",
       "  'count': 7581,\n",
       "  'week_number': 4,\n",
       "  'clap_mean': 47.35694499406411},\n",
       " 'Saturday': {'total_claps': 222734.0,\n",
       "  'count': 4630,\n",
       "  'week_number': 5,\n",
       "  'clap_mean': 48.10669546436285},\n",
       " 'Sunday': {'total_claps': 196899.0,\n",
       "  'count': 4624,\n",
       "  'week_number': 6,\n",
       "  'clap_mean': 42.58196366782007},\n",
       " 'Monday': {'total_claps': 354164.0,\n",
       "  'count': 7647,\n",
       "  'week_number': 0,\n",
       "  'clap_mean': 46.314110108539296},\n",
       " 'Tuesday': {'total_claps': 385568.0,\n",
       "  'count': 8008,\n",
       "  'week_number': 1,\n",
       "  'clap_mean': 48.14785214785215},\n",
       " 'Wednesday': {'total_claps': 408845.0,\n",
       "  'count': 8223,\n",
       "  'week_number': 2,\n",
       "  'clap_mean': 49.71968867809802},\n",
       " 'Thursday': {'total_claps': 322049.0,\n",
       "  'count': 6946,\n",
       "  'week_number': 3,\n",
       "  'clap_mean': 46.3646703138497}}"
      ]
     },
     "execution_count": 18,
     "metadata": {},
     "output_type": "execute_result"
    }
   ],
   "source": [
    "#Extract calps means for week days\n",
    "for x in claps_count.values():\n",
    "    x['clap_mean'] = x['total_claps']/ x['count']\n",
    "    \n",
    "claps_count"
   ]
  },
  {
   "cell_type": "code",
   "execution_count": 19,
   "id": "f847559e",
   "metadata": {},
   "outputs": [
    {
     "data": {
      "text/html": [
       "<div>\n",
       "<style scoped>\n",
       "    .dataframe tbody tr th:only-of-type {\n",
       "        vertical-align: middle;\n",
       "    }\n",
       "\n",
       "    .dataframe tbody tr th {\n",
       "        vertical-align: top;\n",
       "    }\n",
       "\n",
       "    .dataframe thead th {\n",
       "        text-align: right;\n",
       "    }\n",
       "</style>\n",
       "<table border=\"1\" class=\"dataframe\">\n",
       "  <thead>\n",
       "    <tr style=\"text-align: right;\">\n",
       "      <th></th>\n",
       "      <th>total_claps</th>\n",
       "      <th>count</th>\n",
       "      <th>week_number</th>\n",
       "      <th>clap_mean</th>\n",
       "    </tr>\n",
       "  </thead>\n",
       "  <tbody>\n",
       "    <tr>\n",
       "      <th>Friday</th>\n",
       "      <td>359013.0</td>\n",
       "      <td>7581.0</td>\n",
       "      <td>4.0</td>\n",
       "      <td>47.356945</td>\n",
       "    </tr>\n",
       "    <tr>\n",
       "      <th>Saturday</th>\n",
       "      <td>222734.0</td>\n",
       "      <td>4630.0</td>\n",
       "      <td>5.0</td>\n",
       "      <td>48.106695</td>\n",
       "    </tr>\n",
       "    <tr>\n",
       "      <th>Sunday</th>\n",
       "      <td>196899.0</td>\n",
       "      <td>4624.0</td>\n",
       "      <td>6.0</td>\n",
       "      <td>42.581964</td>\n",
       "    </tr>\n",
       "    <tr>\n",
       "      <th>Monday</th>\n",
       "      <td>354164.0</td>\n",
       "      <td>7647.0</td>\n",
       "      <td>0.0</td>\n",
       "      <td>46.314110</td>\n",
       "    </tr>\n",
       "    <tr>\n",
       "      <th>Tuesday</th>\n",
       "      <td>385568.0</td>\n",
       "      <td>8008.0</td>\n",
       "      <td>1.0</td>\n",
       "      <td>48.147852</td>\n",
       "    </tr>\n",
       "    <tr>\n",
       "      <th>Wednesday</th>\n",
       "      <td>408845.0</td>\n",
       "      <td>8223.0</td>\n",
       "      <td>2.0</td>\n",
       "      <td>49.719689</td>\n",
       "    </tr>\n",
       "    <tr>\n",
       "      <th>Thursday</th>\n",
       "      <td>322049.0</td>\n",
       "      <td>6946.0</td>\n",
       "      <td>3.0</td>\n",
       "      <td>46.364670</td>\n",
       "    </tr>\n",
       "  </tbody>\n",
       "</table>\n",
       "</div>"
      ],
      "text/plain": [
       "           total_claps   count  week_number  clap_mean\n",
       "Friday        359013.0  7581.0          4.0  47.356945\n",
       "Saturday      222734.0  4630.0          5.0  48.106695\n",
       "Sunday        196899.0  4624.0          6.0  42.581964\n",
       "Monday        354164.0  7647.0          0.0  46.314110\n",
       "Tuesday       385568.0  8008.0          1.0  48.147852\n",
       "Wednesday     408845.0  8223.0          2.0  49.719689\n",
       "Thursday      322049.0  6946.0          3.0  46.364670"
      ]
     },
     "execution_count": 19,
     "metadata": {},
     "output_type": "execute_result"
    }
   ],
   "source": [
    "df_weekday = pd.DataFrame(claps_count)\n",
    "df_weekday = df_weekday.transpose()\n",
    "df_weekday"
   ]
  },
  {
   "cell_type": "code",
   "execution_count": 20,
   "id": "cd8b08fb",
   "metadata": {},
   "outputs": [
    {
     "data": {
      "text/plain": [
       "Text(0, 0.5, 'Clap Means')"
      ]
     },
     "execution_count": 20,
     "metadata": {},
     "output_type": "execute_result"
    },
    {
     "data": {
      "image/png": "[encoded data removed]",
      "text/plain": [
       "<Figure size 720x720 with 1 Axes>"
      ]
     },
     "metadata": {},
     "output_type": "display_data"
    }
   ],
   "source": [
    "import seaborn as sns\n",
    "import matplotlib\n",
    "matplotlib.style.use('fivethirtyeight') \n",
    "\n",
    "sns.set_style(\"dark\")\n",
    "df_weekday.sort_values('week_number',ascending=True).plot.bar(y='clap_mean')\n",
    "\n",
    "plt.ylim(bottom=40)\n",
    "plt.title(\"Claps mean for weekdays\")\n",
    "plt.xlabel(\"Weeday\")\n",
    "plt.ylabel(\"Clap Means\")"
   ]
  },
  {
   "cell_type": "code",
   "execution_count": null,
   "id": "cf6cd4cb",
   "metadata": {},
   "outputs": [],
   "source": []
  }
 ],
 "metadata": {
  "kernelspec": {
   "display_name": "Python 3 (ipykernel)",
   "language": "python",
   "name": "python3"
  },
  "language_info": {
   "codemirror_mode": {
    "name": "ipython",
    "version": 3
   },
   "file_extension": ".py",
   "mimetype": "text/x-python",
   "name": "python",
   "nbconvert_exporter": "python",
   "pygments_lexer": "ipython3",
   "version": "3.8.10"
  }
 },
 "nbformat": 4,
 "nbformat_minor": 5
}
