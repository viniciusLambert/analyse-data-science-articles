{
 "cells": [
  {
   "cell_type": "markdown",
   "id": "a19faca1",
   "metadata": {},
   "source": [
    "# Questions\n",
    "\n",
    "- [ ] What is the better day to post?"
   ]
  },
  {
   "cell_type": "code",
   "execution_count": 2,
   "id": "7f665452",
   "metadata": {},
   "outputs": [
    {
     "data": {
      "text/plain": [
       "(47663, 11)"
      ]
     },
     "execution_count": 2,
     "metadata": {},
     "output_type": "execute_result"
    }
   ],
   "source": [
    "import numpy as np\n",
    "import pandas as pd\n",
    "import matplotlib.pyplot as plt\n",
    "%matplotlib inline\n",
    "\n",
    "import datetime\n",
    "\n",
    "plt.rcParams[\"figure.figsize\"] = (10, 10)\n",
    "\n",
    "pd.set_option('display.max_colwidth', None)\n",
    "\n",
    "df = pd.read_csv('medium-data-2021.csv')\n",
    "\n",
    "\n",
    "df.shape\n",
    "#df.head()"
   ]
  },
  {
   "cell_type": "markdown",
   "id": "702763c2",
   "metadata": {},
   "source": [
    "# Preparing data\n",
    "\n",
    "## Find url duplicateds values and drop it\n",
    "\n",
    "If it has the same URL, it is the same article."
   ]
  },
  {
   "cell_type": "code",
   "execution_count": 3,
   "id": "f46da3ff",
   "metadata": {
    "scrolled": true
   },
   "outputs": [
    {
     "name": "stdout",
     "output_type": "stream",
     "text": [
      " We have 1 duplicated values in url colum\n"
     ]
    },
    {
     "data": {
      "text/html": [
       "<div>\n",
       "<style scoped>\n",
       "    .dataframe tbody tr th:only-of-type {\n",
       "        vertical-align: middle;\n",
       "    }\n",
       "\n",
       "    .dataframe tbody tr th {\n",
       "        vertical-align: top;\n",
       "    }\n",
       "\n",
       "    .dataframe thead th {\n",
       "        text-align: right;\n",
       "    }\n",
       "</style>\n",
       "<table border=\"1\" class=\"dataframe\">\n",
       "  <thead>\n",
       "    <tr style=\"text-align: right;\">\n",
       "      <th></th>\n",
       "      <th>Unnamed: 0</th>\n",
       "      <th>url</th>\n",
       "      <th>title</th>\n",
       "      <th>author</th>\n",
       "      <th>author_page</th>\n",
       "      <th>subtitle</th>\n",
       "      <th>claps</th>\n",
       "      <th>responses</th>\n",
       "      <th>reading_time</th>\n",
       "      <th>tag</th>\n",
       "      <th>date</th>\n",
       "    </tr>\n",
       "  </thead>\n",
       "  <tbody>\n",
       "    <tr>\n",
       "      <th>24529</th>\n",
       "      <td>27554</td>\n",
       "      <td>https://medium.com/@veronikabelokhvostova/im-a-data-scientist-here-s-why-i-work-at-facebook-a1fdb42fc8c4</td>\n",
       "      <td>&lt;strong class=\"markup--strong markup--h3-strong\"&gt;&lt;em class=\"markup--em markup--h3-em\"&gt;I’m a Data Scientist — Here’s why I work at Facebook&lt;/em&gt;&lt;/strong&gt;</td>\n",
       "      <td>veronikabelokhvostova</td>\n",
       "      <td>https://medium.com/@veronikabelokhvostova</td>\n",
       "      <td>NaN</td>\n",
       "      <td>591.0</td>\n",
       "      <td>0</td>\n",
       "      <td>7</td>\n",
       "      <td>Data Science</td>\n",
       "      <td>2021-10-07</td>\n",
       "    </tr>\n",
       "    <tr>\n",
       "      <th>25596</th>\n",
       "      <td>28976</td>\n",
       "      <td>https://medium.com/@veronikabelokhvostova/im-a-data-scientist-here-s-why-i-work-at-facebook-a1fdb42fc8c4</td>\n",
       "      <td>Facebook destroyed my family andmy mother and grandfather.</td>\n",
       "      <td>lexahe3185</td>\n",
       "      <td>https://medium.com/@lexahe3185</td>\n",
       "      <td>NaN</td>\n",
       "      <td>0.0</td>\n",
       "      <td>0</td>\n",
       "      <td>0</td>\n",
       "      <td>Data Science</td>\n",
       "      <td>2021-10-12</td>\n",
       "    </tr>\n",
       "  </tbody>\n",
       "</table>\n",
       "</div>"
      ],
      "text/plain": [
       "      Unnamed: 0  \\\n",
       "24529      27554   \n",
       "25596      28976   \n",
       "\n",
       "                                                                                                            url  \\\n",
       "24529  https://medium.com/@veronikabelokhvostova/im-a-data-scientist-here-s-why-i-work-at-facebook-a1fdb42fc8c4   \n",
       "25596  https://medium.com/@veronikabelokhvostova/im-a-data-scientist-here-s-why-i-work-at-facebook-a1fdb42fc8c4   \n",
       "\n",
       "                                                                                                                                                          title  \\\n",
       "24529  <strong class=\"markup--strong markup--h3-strong\"><em class=\"markup--em markup--h3-em\">I’m a Data Scientist — Here’s why I work at Facebook</em></strong>   \n",
       "25596                                                                                                Facebook destroyed my family andmy mother and grandfather.   \n",
       "\n",
       "                      author                                author_page  \\\n",
       "24529  veronikabelokhvostova  https://medium.com/@veronikabelokhvostova   \n",
       "25596             lexahe3185             https://medium.com/@lexahe3185   \n",
       "\n",
       "      subtitle  claps responses reading_time           tag        date  \n",
       "24529      NaN  591.0         0            7  Data Science  2021-10-07  \n",
       "25596      NaN    0.0         0            0  Data Science  2021-10-12  "
      ]
     },
     "execution_count": 3,
     "metadata": {},
     "output_type": "execute_result"
    }
   ],
   "source": [
    "print(f' We have {df.url.duplicated().sum()} duplicated values in url colum')\n",
    "df[df.url.duplicated(keep=False)]"
   ]
  },
  {
   "cell_type": "code",
   "execution_count": 4,
   "id": "c0872e50",
   "metadata": {},
   "outputs": [
    {
     "name": "stdout",
     "output_type": "stream",
     "text": [
      " We have 0 duplicated values in url column\n"
     ]
    },
    {
     "data": {
      "text/plain": [
       "(47662, 11)"
      ]
     },
     "execution_count": 4,
     "metadata": {},
     "output_type": "execute_result"
    }
   ],
   "source": [
    "#  analysed the values and conclude that the correct duplicated values \n",
    "#is aways the first! So let's keep it.\n",
    "\n",
    "df = df.drop_duplicates(subset=['url'], keep='first')\n",
    "print(f' We have {df.url.duplicated().sum()} duplicated values in url column')\n",
    "df.shape"
   ]
  },
  {
   "cell_type": "markdown",
   "id": "b6448335",
   "metadata": {},
   "source": [
    "## Modeling Data"
   ]
  },
  {
   "cell_type": "markdown",
   "id": "a2b51c30",
   "metadata": {},
   "source": [
    "### Data understanding"
   ]
  },
  {
   "cell_type": "code",
   "execution_count": 5,
   "id": "fd3c219d",
   "metadata": {},
   "outputs": [
    {
     "data": {
      "text/plain": [
       "2"
      ]
     },
     "execution_count": 5,
     "metadata": {},
     "output_type": "execute_result"
    }
   ],
   "source": [
    "df.date.isna().sum()"
   ]
  },
  {
   "cell_type": "code",
   "execution_count": 6,
   "id": "ad4d62b0",
   "metadata": {},
   "outputs": [
    {
     "data": {
      "text/plain": [
       "0"
      ]
     },
     "execution_count": 6,
     "metadata": {},
     "output_type": "execute_result"
    }
   ],
   "source": [
    "df = df[df['date'].notna()]\n",
    "df.date.isna().sum()"
   ]
  },
  {
   "cell_type": "markdown",
   "id": "f62466b4",
   "metadata": {},
   "source": [
    "### labeling the data\n",
    "\n",
    "As you can see, it has some confusing character, so we need to normalize the data."
   ]
  },
  {
   "cell_type": "code",
   "execution_count": 7,
   "id": "9bf0e6d1",
   "metadata": {
    "scrolled": false
   },
   "outputs": [],
   "source": [
    "def get_week_day(date):\n",
    "    date = str(date)\n",
    "    year, month, day = (int(x) for x in date.split('-'))    \n",
    "    \n",
    "    return datetime.date(year, month, day).weekday()\n",
    "  \n",
    "\n",
    "df['weekday'] = df.date.apply(get_week_day)"
   ]
  },
  {
   "cell_type": "markdown",
   "id": "141151f3",
   "metadata": {},
   "source": [
    "## Get data insights"
   ]
  },
  {
   "cell_type": "code",
   "execution_count": 8,
   "id": "44711e04",
   "metadata": {
    "scrolled": true
   },
   "outputs": [
    {
     "data": {
      "text/html": [
       "<style type=\"text/css\">\n",
       "#T_98b7f_row0_col0, #T_98b7f_row1_col1 {\n",
       "  background-color: #b40426;\n",
       "  color: #f1f1f1;\n",
       "}\n",
       "#T_98b7f_row0_col1, #T_98b7f_row1_col0 {\n",
       "  background-color: #3b4cc0;\n",
       "  color: #f1f1f1;\n",
       "}\n",
       "</style>\n",
       "<table id=\"T_98b7f_\">\n",
       "  <thead>\n",
       "    <tr>\n",
       "      <th class=\"blank level0\" >&nbsp;</th>\n",
       "      <th class=\"col_heading level0 col0\" >claps</th>\n",
       "      <th class=\"col_heading level0 col1\" >weekday</th>\n",
       "    </tr>\n",
       "  </thead>\n",
       "  <tbody>\n",
       "    <tr>\n",
       "      <th id=\"T_98b7f_level0_row0\" class=\"row_heading level0 row0\" >claps</th>\n",
       "      <td id=\"T_98b7f_row0_col0\" class=\"data row0 col0\" >1.000000</td>\n",
       "      <td id=\"T_98b7f_row0_col1\" class=\"data row0 col1\" >-0.003416</td>\n",
       "    </tr>\n",
       "    <tr>\n",
       "      <th id=\"T_98b7f_level0_row1\" class=\"row_heading level0 row1\" >weekday</th>\n",
       "      <td id=\"T_98b7f_row1_col0\" class=\"data row1 col0\" >-0.003416</td>\n",
       "      <td id=\"T_98b7f_row1_col1\" class=\"data row1 col1\" >1.000000</td>\n",
       "    </tr>\n",
       "  </tbody>\n",
       "</table>\n"
      ],
      "text/plain": [
       "<pandas.io.formats.style.Styler at 0x7efd3ee33c70>"
      ]
     },
     "execution_count": 8,
     "metadata": {},
     "output_type": "execute_result"
    }
   ],
   "source": [
    "corr = df.corr()\n",
    "corr.style.background_gradient(cmap='coolwarm')"
   ]
  },
  {
   "cell_type": "code",
   "execution_count": 11,
   "id": "ea01875a",
   "metadata": {},
   "outputs": [
    {
     "data": {
      "text/plain": [
       "{4: {'total_claps': 359013.0, 'count': 7581},\n",
       " 5: {'total_claps': 222734.0, 'count': 4630},\n",
       " 6: {'total_claps': 196899.0, 'count': 4624},\n",
       " 0: {'total_claps': 354164.0, 'count': 7647},\n",
       " 1: {'total_claps': 385568.0, 'count': 8008},\n",
       " 2: {'total_claps': 408845.0, 'count': 8223},\n",
       " 3: {'total_claps': 322122.0, 'count': 6947}}"
      ]
     },
     "execution_count": 11,
     "metadata": {},
     "output_type": "execute_result"
    }
   ],
   "source": [
    "# claps_count = {}\n",
    "for weekday, clap in zip(df.weekday, df.claps):\n",
    "    if weekday in claps_count.keys():\n",
    "        claps_count[weekday]['total_claps'] += clap\n",
    "        claps_count[weekday]['count'] += 1\n",
    "    else:        \n",
    "        claps_count[weekday] = {\n",
    "            'total_claps' : clap,\n",
    "            'count': 1\n",
    "        }\n",
    "\n",
    "claps_count"
   ]
  },
  {
   "cell_type": "code",
   "execution_count": 19,
   "id": "d1e07f50",
   "metadata": {},
   "outputs": [
    {
     "data": {
      "text/plain": [
       "{4: {'total_claps': 359013.0, 'count': 7581, 'clap_mean': 47.35694499406411},\n",
       " 5: {'total_claps': 222734.0, 'count': 4630, 'clap_mean': 48.10669546436285},\n",
       " 6: {'total_claps': 196899.0, 'count': 4624, 'clap_mean': 42.58196366782007},\n",
       " 0: {'total_claps': 354164.0, 'count': 7647, 'clap_mean': 46.314110108539296},\n",
       " 1: {'total_claps': 385568.0, 'count': 8008, 'clap_mean': 48.14785214785215},\n",
       " 2: {'total_claps': 408845.0, 'count': 8223, 'clap_mean': 49.71968867809802},\n",
       " 3: {'total_claps': 322122.0, 'count': 6947, 'clap_mean': 46.36850439038434}}"
      ]
     },
     "execution_count": 19,
     "metadata": {},
     "output_type": "execute_result"
    }
   ],
   "source": [
    "for x in claps_count.values():\n",
    "    x['clap_mean'] = x['total_claps']/ x['count']\n",
    "    \n",
    "claps_count"
   ]
  },
  {
   "cell_type": "code",
   "execution_count": null,
   "id": "f847559e",
   "metadata": {},
   "outputs": [],
   "source": []
  }
 ],
 "metadata": {
  "kernelspec": {
   "display_name": "Python 3 (ipykernel)",
   "language": "python",
   "name": "python3"
  },
  "language_info": {
   "codemirror_mode": {
    "name": "ipython",
    "version": 3
   },
   "file_extension": ".py",
   "mimetype": "text/x-python",
   "name": "python",
   "nbconvert_exporter": "python",
   "pygments_lexer": "ipython3",
   "version": "3.8.10"
  }
 },
 "nbformat": 4,
 "nbformat_minor": 5
}
