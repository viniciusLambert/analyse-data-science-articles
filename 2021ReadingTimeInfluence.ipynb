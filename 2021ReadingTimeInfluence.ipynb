{
 "cells": [
  {
   "cell_type": "markdown",
   "id": "a19faca1",
   "metadata": {},
   "source": [
    "# Questions\n",
    "\n",
    "- [X] What reading times that get most engament?"
   ]
  },
  {
   "cell_type": "markdown",
   "id": "f60ed900",
   "metadata": {},
   "source": [
    "To get started, let's read in the necessary libraries we will need to wrangle our data: pandas and numpy. If we decided to build some basic plots, matplotlib might prove useful as well."
   ]
  },
  {
   "cell_type": "code",
   "execution_count": 15,
   "id": "7f665452",
   "metadata": {},
   "outputs": [
    {
     "data": {
      "text/plain": [
       "(47660, 10)"
      ]
     },
     "execution_count": 15,
     "metadata": {},
     "output_type": "execute_result"
    }
   ],
   "source": [
    "import numpy as np\n",
    "import pandas as pd\n",
    "\n",
    "import seaborn as sns\n",
    "import matplotlib\n",
    "import matplotlib.pyplot as plt\n",
    "%matplotlib inline\n",
    "\n",
    "plt.rcParams[\"figure.figsize\"] = (10, 10)\n",
    "\n",
    "pd.set_option('display.max_colwidth', None)\n",
    "\n",
    "df = pd.read_csv('medium-data-science-articles-2021.csv')\n",
    "\n",
    "\n",
    "df.shape\n",
    "#df.head()"
   ]
  },
  {
   "cell_type": "markdown",
   "id": "702763c2",
   "metadata": {},
   "source": [
    "# Preparing data\n",
    "\n",
    "## Find url duplicateds values and drop it\n",
    "\n",
    "As same Url means same articles, let's remove it."
   ]
  },
  {
   "cell_type": "code",
   "execution_count": 16,
   "id": "f46da3ff",
   "metadata": {
    "scrolled": true
   },
   "outputs": [
    {
     "name": "stdout",
     "output_type": "stream",
     "text": [
      " We have 1 duplicated values in url colum\n"
     ]
    },
    {
     "data": {
      "text/html": [
       "<div>\n",
       "<style scoped>\n",
       "    .dataframe tbody tr th:only-of-type {\n",
       "        vertical-align: middle;\n",
       "    }\n",
       "\n",
       "    .dataframe tbody tr th {\n",
       "        vertical-align: top;\n",
       "    }\n",
       "\n",
       "    .dataframe thead th {\n",
       "        text-align: right;\n",
       "    }\n",
       "</style>\n",
       "<table border=\"1\" class=\"dataframe\">\n",
       "  <thead>\n",
       "    <tr style=\"text-align: right;\">\n",
       "      <th></th>\n",
       "      <th>url</th>\n",
       "      <th>title</th>\n",
       "      <th>author</th>\n",
       "      <th>author_page</th>\n",
       "      <th>subtitle</th>\n",
       "      <th>claps</th>\n",
       "      <th>responses</th>\n",
       "      <th>reading_time</th>\n",
       "      <th>tag</th>\n",
       "      <th>date</th>\n",
       "    </tr>\n",
       "  </thead>\n",
       "  <tbody>\n",
       "    <tr>\n",
       "      <th>24526</th>\n",
       "      <td>https://medium.com/@veronikabelokhvostova/im-a-data-scientist-here-s-why-i-work-at-facebook-a1fdb42fc8c4</td>\n",
       "      <td>&lt;strong class=\"markup--strong markup--h3-strong\"&gt;&lt;em class=\"markup--em markup--h3-em\"&gt;I’m a Data Scientist — Here’s why I work at Facebook&lt;/em&gt;&lt;/strong&gt;</td>\n",
       "      <td>veronikabelokhvostova</td>\n",
       "      <td>https://medium.com/@veronikabelokhvostova</td>\n",
       "      <td>NaN</td>\n",
       "      <td>591.0</td>\n",
       "      <td>0.0</td>\n",
       "      <td>7.0</td>\n",
       "      <td>Data Science</td>\n",
       "      <td>2021-10-07</td>\n",
       "    </tr>\n",
       "    <tr>\n",
       "      <th>25593</th>\n",
       "      <td>https://medium.com/@veronikabelokhvostova/im-a-data-scientist-here-s-why-i-work-at-facebook-a1fdb42fc8c4</td>\n",
       "      <td>Facebook destroyed my family andmy mother and grandfather.</td>\n",
       "      <td>lexahe3185</td>\n",
       "      <td>https://medium.com/@lexahe3185</td>\n",
       "      <td>NaN</td>\n",
       "      <td>0.0</td>\n",
       "      <td>0.0</td>\n",
       "      <td>0.0</td>\n",
       "      <td>Data Science</td>\n",
       "      <td>2021-10-12</td>\n",
       "    </tr>\n",
       "  </tbody>\n",
       "</table>\n",
       "</div>"
      ],
      "text/plain": [
       "                                                                                                            url  \\\n",
       "24526  https://medium.com/@veronikabelokhvostova/im-a-data-scientist-here-s-why-i-work-at-facebook-a1fdb42fc8c4   \n",
       "25593  https://medium.com/@veronikabelokhvostova/im-a-data-scientist-here-s-why-i-work-at-facebook-a1fdb42fc8c4   \n",
       "\n",
       "                                                                                                                                                          title  \\\n",
       "24526  <strong class=\"markup--strong markup--h3-strong\"><em class=\"markup--em markup--h3-em\">I’m a Data Scientist — Here’s why I work at Facebook</em></strong>   \n",
       "25593                                                                                                Facebook destroyed my family andmy mother and grandfather.   \n",
       "\n",
       "                      author                                author_page  \\\n",
       "24526  veronikabelokhvostova  https://medium.com/@veronikabelokhvostova   \n",
       "25593             lexahe3185             https://medium.com/@lexahe3185   \n",
       "\n",
       "      subtitle  claps  responses  reading_time           tag        date  \n",
       "24526      NaN  591.0        0.0           7.0  Data Science  2021-10-07  \n",
       "25593      NaN    0.0        0.0           0.0  Data Science  2021-10-12  "
      ]
     },
     "execution_count": 16,
     "metadata": {},
     "output_type": "execute_result"
    }
   ],
   "source": [
    "print(f' We have {df.url.duplicated().sum()} duplicated values in url colum')\n",
    "df[df.url.duplicated(keep=False)]"
   ]
  },
  {
   "cell_type": "code",
   "execution_count": 17,
   "id": "c0872e50",
   "metadata": {},
   "outputs": [
    {
     "name": "stdout",
     "output_type": "stream",
     "text": [
      " We have 0 duplicated values in url column\n"
     ]
    },
    {
     "data": {
      "text/plain": [
       "(47659, 10)"
      ]
     },
     "execution_count": 17,
     "metadata": {},
     "output_type": "execute_result"
    }
   ],
   "source": [
    "# I analysed the values and conclude that the correct duplicated values \n",
    "#is aways the first! So let's keep it.\n",
    "\n",
    "df = df.drop_duplicates(subset=['url'], keep='first')\n",
    "print(f' We have {df.url.duplicated().sum()} duplicated values in url column')\n",
    "df.shape"
   ]
  },
  {
   "cell_type": "markdown",
   "id": "b6448335",
   "metadata": {},
   "source": [
    "## Modeling Data"
   ]
  },
  {
   "cell_type": "markdown",
   "id": "f62466b4",
   "metadata": {},
   "source": [
    "### Extracting reading_time clap means\n"
   ]
  },
  {
   "cell_type": "code",
   "execution_count": 18,
   "id": "9bf0e6d1",
   "metadata": {
    "scrolled": false
   },
   "outputs": [],
   "source": [
    "#Build a python dict of dicts, that contains raw infos about reading time\n",
    "dict_reading_time = {}\n",
    "\n",
    "for reading_time, clap in zip(df.reading_time, df.claps):\n",
    "    if reading_time in dict_reading_time.keys():\n",
    "        dict_reading_time[reading_time]['total_claps'] += clap\n",
    "        dict_reading_time[reading_time]['count'] += 1\n",
    "    else:\n",
    "        dict_reading_time[reading_time] = {\n",
    "            'total_claps' : clap,\n",
    "            'count': 1\n",
    "        }\n",
    "#dict_reading_time"
   ]
  },
  {
   "cell_type": "code",
   "execution_count": 19,
   "id": "15d46a71",
   "metadata": {},
   "outputs": [],
   "source": [
    "#Extract calps means for all reading times\n",
    "for x in dict_reading_time.values():\n",
    "    x['clap_mean'] = x['total_claps']/ x['count']\n",
    "    \n",
    "#dict_reading_time"
   ]
  },
  {
   "cell_type": "markdown",
   "id": "69d003d6",
   "metadata": {},
   "source": [
    "## Analyse data\n",
    "\n",
    "In order to eleiminate outlyers we will only analise reading times that apper 5 or more times!"
   ]
  },
  {
   "cell_type": "code",
   "execution_count": 20,
   "id": "80f8e621",
   "metadata": {},
   "outputs": [
    {
     "data": {
      "text/html": [
       "<div>\n",
       "<style scoped>\n",
       "    .dataframe tbody tr th:only-of-type {\n",
       "        vertical-align: middle;\n",
       "    }\n",
       "\n",
       "    .dataframe tbody tr th {\n",
       "        vertical-align: top;\n",
       "    }\n",
       "\n",
       "    .dataframe thead th {\n",
       "        text-align: right;\n",
       "    }\n",
       "</style>\n",
       "<table border=\"1\" class=\"dataframe\">\n",
       "  <thead>\n",
       "    <tr style=\"text-align: right;\">\n",
       "      <th></th>\n",
       "      <th>total_claps</th>\n",
       "      <th>count</th>\n",
       "      <th>clap_mean</th>\n",
       "    </tr>\n",
       "  </thead>\n",
       "  <tbody>\n",
       "    <tr>\n",
       "      <th>5.0</th>\n",
       "      <td>338601.0</td>\n",
       "      <td>6510.0</td>\n",
       "      <td>52.012442</td>\n",
       "    </tr>\n",
       "    <tr>\n",
       "      <th>3.0</th>\n",
       "      <td>240990.0</td>\n",
       "      <td>7525.0</td>\n",
       "      <td>32.025249</td>\n",
       "    </tr>\n",
       "    <tr>\n",
       "      <th>6.0</th>\n",
       "      <td>310961.0</td>\n",
       "      <td>4781.0</td>\n",
       "      <td>65.040996</td>\n",
       "    </tr>\n",
       "    <tr>\n",
       "      <th>2.0</th>\n",
       "      <td>144597.0</td>\n",
       "      <td>5521.0</td>\n",
       "      <td>26.190364</td>\n",
       "    </tr>\n",
       "    <tr>\n",
       "      <th>1.0</th>\n",
       "      <td>31837.0</td>\n",
       "      <td>3483.0</td>\n",
       "      <td>9.140683</td>\n",
       "    </tr>\n",
       "  </tbody>\n",
       "</table>\n",
       "</div>"
      ],
      "text/plain": [
       "     total_claps   count  clap_mean\n",
       "5.0     338601.0  6510.0  52.012442\n",
       "3.0     240990.0  7525.0  32.025249\n",
       "6.0     310961.0  4781.0  65.040996\n",
       "2.0     144597.0  5521.0  26.190364\n",
       "1.0      31837.0  3483.0   9.140683"
      ]
     },
     "execution_count": 20,
     "metadata": {},
     "output_type": "execute_result"
    }
   ],
   "source": [
    "df_reading_time = pd.DataFrame(dict_reading_time).transpose()\n",
    "df_reading_time = df_reading_time[df_reading_time['count'] >= 15]\n",
    "df_reading_time.head()"
   ]
  },
  {
   "cell_type": "code",
   "execution_count": 21,
   "id": "ae0ce6c6",
   "metadata": {},
   "outputs": [
    {
     "data": {
      "text/plain": [
       "Text(0, 0.5, 'Clap Means')"
      ]
     },
     "execution_count": 21,
     "metadata": {},
     "output_type": "execute_result"
    },
    {
     "data": {
      "image/png": "[encoded data removed]",
      "text/plain": [
       "<Figure size 720x720 with 1 Axes>"
      ]
     },
     "metadata": {},
     "output_type": "display_data"
    }
   ],
   "source": [
    "matplotlib.style.use('fivethirtyeight') \n",
    "\n",
    "sns.set_style(\"dark\")\n",
    "df_reading_time.sort_index(ascending=True).plot.bar(y='clap_mean')\n",
    "\n",
    "plt.ylim(bottom=40)\n",
    "\n",
    "plt.grid(True, axis='y')\n",
    "plt.title(\"Claps mean for reading time\")\n",
    "plt.xlabel(\"Reading time\")\n",
    "plt.ylabel(\"Clap Means\")"
   ]
  },
  {
   "cell_type": "code",
   "execution_count": null,
   "id": "7c37df82",
   "metadata": {},
   "outputs": [],
   "source": []
  }
 ],
 "metadata": {
  "kernelspec": {
   "display_name": "Python 3 (ipykernel)",
   "language": "python",
   "name": "python3"
  },
  "language_info": {
   "codemirror_mode": {
    "name": "ipython",
    "version": 3
   },
   "file_extension": ".py",
   "mimetype": "text/x-python",
   "name": "python",
   "nbconvert_exporter": "python",
   "pygments_lexer": "ipython3",
   "version": "3.8.10"
  }
 },
 "nbformat": 4,
 "nbformat_minor": 5
}
